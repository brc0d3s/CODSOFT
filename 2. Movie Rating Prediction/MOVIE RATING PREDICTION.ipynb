{
 "cells": [
  {
   "cell_type": "code",
   "execution_count": null,
   "id": "79f065c8-4701-48d4-8ed6-6655bd153043",
   "metadata": {},
   "outputs": [],
   "source": []
  }
 ],
 "metadata": {
  "kernelspec": {
   "display_name": "",
   "name": ""
  },
  "language_info": {
   "name": ""
  }
 },
 "nbformat": 4,
 "nbformat_minor": 5
}
