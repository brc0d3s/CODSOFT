{
 "cells": [
  {
   "cell_type": "code",
   "execution_count": null,
   "id": "c7a5fc93-b808-47c4-bfb0-4a63f6cfb71e",
   "metadata": {},
   "outputs": [],
   "source": []
  }
 ],
 "metadata": {
  "kernelspec": {
   "display_name": "",
   "name": ""
  },
  "language_info": {
   "name": ""
  }
 },
 "nbformat": 4,
 "nbformat_minor": 5
}
